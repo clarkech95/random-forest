{
 "cells": [
  {
   "cell_type": "markdown",
   "metadata": {},
   "source": [
    "### Student Name: Christian Clarke"
   ]
  },
  {
   "cell_type": "code",
   "execution_count": 6,
   "metadata": {},
   "outputs": [],
   "source": [
    "#TODO: import the modules\n",
    "from sklearn.ensemble import RandomForestClassifier\n",
    "import pandas as pd\n",
    "from sklearn.model_selection import train_test_split\n",
    "from sklearn import metrics"
   ]
  },
  {
   "cell_type": "markdown",
   "metadata": {},
   "source": [
    "### Step 1 – Load the data\n",
    "Load `trip_data.csv`, select the salient features and engineer new features (if necessary)."
   ]
  },
  {
   "cell_type": "code",
   "execution_count": 4,
   "metadata": {},
   "outputs": [
    {
     "data": {
      "text/html": [
       "<div>\n",
       "<style scoped>\n",
       "    .dataframe tbody tr th:only-of-type {\n",
       "        vertical-align: middle;\n",
       "    }\n",
       "\n",
       "    .dataframe tbody tr th {\n",
       "        vertical-align: top;\n",
       "    }\n",
       "\n",
       "    .dataframe thead th {\n",
       "        text-align: right;\n",
       "    }\n",
       "</style>\n",
       "<table border=\"1\" class=\"dataframe\">\n",
       "  <thead>\n",
       "    <tr style=\"text-align: right;\">\n",
       "      <th></th>\n",
       "      <th>VendorID</th>\n",
       "      <th>RatecodeID</th>\n",
       "      <th>PULocationID</th>\n",
       "      <th>DOLocationID</th>\n",
       "      <th>passenger_count</th>\n",
       "      <th>trip_distance</th>\n",
       "      <th>fare_amount</th>\n",
       "      <th>extra</th>\n",
       "      <th>mta_tax</th>\n",
       "      <th>tolls_amount</th>\n",
       "      <th>improvement_surcharge</th>\n",
       "      <th>total_amount</th>\n",
       "      <th>trip_type</th>\n",
       "      <th>congestion_surcharge</th>\n",
       "      <th>tip</th>\n",
       "    </tr>\n",
       "  </thead>\n",
       "  <tbody>\n",
       "    <tr>\n",
       "      <th>0</th>\n",
       "      <td>2.0</td>\n",
       "      <td>1.0</td>\n",
       "      <td>24</td>\n",
       "      <td>41</td>\n",
       "      <td>1.0</td>\n",
       "      <td>0.67</td>\n",
       "      <td>5.5</td>\n",
       "      <td>0.5</td>\n",
       "      <td>0.5</td>\n",
       "      <td>0.0</td>\n",
       "      <td>0.3</td>\n",
       "      <td>8.84</td>\n",
       "      <td>1.0</td>\n",
       "      <td>0.00</td>\n",
       "      <td>good</td>\n",
       "    </tr>\n",
       "    <tr>\n",
       "      <th>1</th>\n",
       "      <td>2.0</td>\n",
       "      <td>1.0</td>\n",
       "      <td>112</td>\n",
       "      <td>232</td>\n",
       "      <td>1.0</td>\n",
       "      <td>2.64</td>\n",
       "      <td>10.0</td>\n",
       "      <td>0.5</td>\n",
       "      <td>0.5</td>\n",
       "      <td>0.0</td>\n",
       "      <td>0.3</td>\n",
       "      <td>16.86</td>\n",
       "      <td>1.0</td>\n",
       "      <td>2.75</td>\n",
       "      <td>low</td>\n",
       "    </tr>\n",
       "    <tr>\n",
       "      <th>2</th>\n",
       "      <td>2.0</td>\n",
       "      <td>1.0</td>\n",
       "      <td>97</td>\n",
       "      <td>227</td>\n",
       "      <td>5.0</td>\n",
       "      <td>3.85</td>\n",
       "      <td>18.0</td>\n",
       "      <td>0.5</td>\n",
       "      <td>0.5</td>\n",
       "      <td>0.0</td>\n",
       "      <td>0.3</td>\n",
       "      <td>22.20</td>\n",
       "      <td>1.0</td>\n",
       "      <td>0.00</td>\n",
       "      <td>low</td>\n",
       "    </tr>\n",
       "    <tr>\n",
       "      <th>3</th>\n",
       "      <td>2.0</td>\n",
       "      <td>1.0</td>\n",
       "      <td>223</td>\n",
       "      <td>129</td>\n",
       "      <td>1.0</td>\n",
       "      <td>2.97</td>\n",
       "      <td>11.5</td>\n",
       "      <td>0.5</td>\n",
       "      <td>0.5</td>\n",
       "      <td>0.0</td>\n",
       "      <td>0.3</td>\n",
       "      <td>13.80</td>\n",
       "      <td>1.0</td>\n",
       "      <td>0.00</td>\n",
       "      <td>low</td>\n",
       "    </tr>\n",
       "    <tr>\n",
       "      <th>4</th>\n",
       "      <td>2.0</td>\n",
       "      <td>1.0</td>\n",
       "      <td>223</td>\n",
       "      <td>7</td>\n",
       "      <td>1.0</td>\n",
       "      <td>1.60</td>\n",
       "      <td>8.0</td>\n",
       "      <td>0.5</td>\n",
       "      <td>0.5</td>\n",
       "      <td>0.0</td>\n",
       "      <td>0.3</td>\n",
       "      <td>11.62</td>\n",
       "      <td>1.0</td>\n",
       "      <td>0.00</td>\n",
       "      <td>good</td>\n",
       "    </tr>\n",
       "  </tbody>\n",
       "</table>\n",
       "</div>"
      ],
      "text/plain": [
       "   VendorID  RatecodeID  PULocationID  DOLocationID  passenger_count  \\\n",
       "0       2.0         1.0            24            41              1.0   \n",
       "1       2.0         1.0           112           232              1.0   \n",
       "2       2.0         1.0            97           227              5.0   \n",
       "3       2.0         1.0           223           129              1.0   \n",
       "4       2.0         1.0           223             7              1.0   \n",
       "\n",
       "   trip_distance  fare_amount  extra  mta_tax  tolls_amount  \\\n",
       "0           0.67          5.5    0.5      0.5           0.0   \n",
       "1           2.64         10.0    0.5      0.5           0.0   \n",
       "2           3.85         18.0    0.5      0.5           0.0   \n",
       "3           2.97         11.5    0.5      0.5           0.0   \n",
       "4           1.60          8.0    0.5      0.5           0.0   \n",
       "\n",
       "   improvement_surcharge  total_amount  trip_type  congestion_surcharge   tip  \n",
       "0                    0.3          8.84        1.0                  0.00  good  \n",
       "1                    0.3         16.86        1.0                  2.75   low  \n",
       "2                    0.3         22.20        1.0                  0.00   low  \n",
       "3                    0.3         13.80        1.0                  0.00   low  \n",
       "4                    0.3         11.62        1.0                  0.00  good  "
      ]
     },
     "execution_count": 4,
     "metadata": {},
     "output_type": "execute_result"
    }
   ],
   "source": [
    "#TODO: Load the data\n",
    "file_path = 'https://raw.githubusercontent.com/clarkech95/decision-trees-pt2/master/trip_data.csv'\n",
    "features = ['VendorID', 'RatecodeID', 'PULocationID', 'DOLocationID',\n",
    "            'passenger_count', 'trip_distance', 'fare_amount', 'extra',\n",
    "            'mta_tax', 'tolls_amount', 'improvement_surcharge', 'total_amount',\n",
    "            'trip_type', 'congestion_surcharge', 'tip']\n",
    "\n",
    "df = pd.read_csv(file_path, usecols = features)\n",
    "df.head()"
   ]
  },
  {
   "cell_type": "markdown",
   "metadata": {},
   "source": [
    "### Step 2 – Split the data"
   ]
  },
  {
   "cell_type": "code",
   "execution_count": 5,
   "metadata": {},
   "outputs": [],
   "source": [
    "#TODO: Split the data into training and test sets\n",
    "X = df.iloc[:,0:14].to_numpy()\n",
    "y = df.iloc[:,14].tolist()\n",
    "\n",
    "X_train, X_test, y_train, y_test = train_test_split(X, y, test_size = 0.3,\n",
    "                                                   random_state = 48,\n",
    "                                                   stratify = y)"
   ]
  },
  {
   "cell_type": "markdown",
   "metadata": {},
   "source": [
    "### Step 3 – Create the Classifier\n",
    "Use the [RandomForestClassifier](https://scikit-learn.org/stable/modules/generated/sklearn.ensemble.RandomForestClassifier.html) in scikit-learn and optimize the parameters to achieve a prediction accuracy of 95% (or higher)."
   ]
  },
  {
   "cell_type": "code",
   "execution_count": 85,
   "metadata": {},
   "outputs": [
    {
     "data": {
      "text/plain": [
       "0.9518639861970029"
      ]
     },
     "execution_count": 85,
     "metadata": {},
     "output_type": "execute_result"
    }
   ],
   "source": [
    "#Create the RandomForestClassifier\n",
    "\n",
    "rf_classifier = RandomForestClassifier(criterion= 'entropy',  #TODO: provide an option \n",
    "                                    max_depth= 15,     #TODO: provide a value. The depth should not exceed 15.\n",
    "                                    max_features= 0.7,  #TODO: provide a suitable value\n",
    "                                    min_samples_split= 3, #TODO: provide a suitable value\n",
    "                                    n_estimators= 150, #TODO: provide a suitable value\n",
    "                                    random_state= 48 #TODO: provide a suitable value\n",
    "                                    )\n",
    "\n",
    "#TODO: Train classifer using the `fit` method\n",
    "rf_classifier.fit(X_train,y_train)\n",
    "\n",
    "#TODO: Make predictions with the test set\n",
    "y_pred = rf_classifier.predict(X_test)\n",
    "\n",
    "#TODO: evaluate the accuracy\n",
    "#rf_classifier.score(y_test, y_pred)\n",
    "len([(i,j) for i,j in zip(y_test, y_pred) if i == j])/len([(i,j) for i,j in zip(y_test, y_pred)])"
   ]
  },
  {
   "cell_type": "markdown",
   "metadata": {},
   "source": [
    "### Step 4 – Make predictions with new data"
   ]
  },
  {
   "cell_type": "code",
   "execution_count": 95,
   "metadata": {},
   "outputs": [
    {
     "data": {
      "text/plain": [
       "array(['low', 'no-tip', 'no-tip', 'no-tip', 'standard', 'no-tip',\n",
       "       'standard', 'standard', 'low', 'standard', 'standard', 'standard',\n",
       "       'standard', 'standard', 'low', 'standard', 'standard', 'low',\n",
       "       'standard', 'low'], dtype='<U8')"
      ]
     },
     "execution_count": 95,
     "metadata": {},
     "output_type": "execute_result"
    }
   ],
   "source": [
    "#TODO: Use the model to make predictions with the supplied test set: `new_trips.csv`\n",
    "file_path = 'https://raw.githubusercontent.com/clarkech95/random-forest/master/new_trips.csv'\n",
    "features = ['VendorID', 'RatecodeID', 'PULocationID', 'DOLocationID',\n",
    "            'passenger_count', 'trip_distance', 'fare_amount', 'extra',\n",
    "            'mta_tax', 'tolls_amount', 'improvement_surcharge', 'total_amount',\n",
    "            'trip_type', 'congestion_surcharge']\n",
    "new_trips = pd.read_csv(file_path, usecols = features)\n",
    "new_pred = rf_classifier.predict(new_trips.to_numpy())\n",
    "new_pred"
   ]
  },
  {
   "cell_type": "markdown",
   "metadata": {},
   "source": [
    "### Step 5 – Summary\n",
    "Summarize the results and explain the reason that ensemble methods can improve a model's ability to generalize."
   ]
  },
  {
   "cell_type": "markdown",
   "metadata": {},
   "source": [
    "The ensemble method gives a trememndous boost to a model's ability to generalize and is able to boost accuracy as well. The base model was only able to produce an accuracy in the low 60s, with the help of search functions we were able to boost it to low 90s, stacking the ensamble methods on top of that we can easily get into the mid and high 90s. The ability to generalize is the key to building a model that is flexible and that can be used in real-world scenarios. The only caveat here however, is that it is more difficult to explain this to business partners and any end-users."
   ]
  }
 ],
 "metadata": {
  "kernelspec": {
   "display_name": "Python 3",
   "language": "python",
   "name": "python3"
  },
  "language_info": {
   "codemirror_mode": {
    "name": "ipython",
    "version": 3
   },
   "file_extension": ".py",
   "mimetype": "text/x-python",
   "name": "python",
   "nbconvert_exporter": "python",
   "pygments_lexer": "ipython3",
   "version": "3.7.3"
  }
 },
 "nbformat": 4,
 "nbformat_minor": 2
}
